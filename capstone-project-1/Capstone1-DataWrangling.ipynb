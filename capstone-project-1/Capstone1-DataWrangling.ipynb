{
 "cells": [
  {
   "cell_type": "code",
   "execution_count": 13,
   "metadata": {},
   "outputs": [],
   "source": [
    "import pandas as pd"
   ]
  },
  {
   "cell_type": "code",
   "execution_count": 16,
   "metadata": {},
   "outputs": [],
   "source": [
    "#Read data for every Borough\n",
    "df_manhattan = pd.read_excel('RollingSalesData/rollingsales_manhattan.xls', header=4, usecols=[0, 1, 2, 3, 7, 10, 15, 16, 18, 19, 20])\n",
    "df_bronx = pd.read_excel('RollingSalesData/rollingsales_bronx.xls', header=4, usecols=[0, 1, 2, 3, 7, 10, 15, 16, 18, 19, 20])\n",
    "df_brooklyn = pd.read_excel('RollingSalesData/rollingsales_brooklyn.xls', header=4, usecols=[0, 1, 2, 3, 7, 10, 15, 16, 18, 19, 20])\n",
    "df_queens = pd.read_excel('RollingSalesData/rollingsales_queens.xls', header=4, usecols=[0, 1, 2, 3, 7, 10, 15, 16, 18, 19, 20])\n",
    "df_statenisland = pd.read_excel('RollingSalesData/rollingsales_statenisland.xls', header=4, usecols=[0, 1, 2, 3, 7, 10, 15, 16, 18, 19, 20])"
   ]
  },
  {
   "cell_type": "code",
   "execution_count": 30,
   "metadata": {},
   "outputs": [],
   "source": [
    "#Concatenate the data for all boroughs\n",
    "df_combined = pd.concat([df_manhattan, df_bronx, df_brooklyn,  df_queens, df_statenisland])\n",
    "\n",
    "#Replace the 'BOROUGH' with appropriate depictions for each borough: M -1 , X - 2, B - 3, Q - 4, S - 5\n",
    "df_combined['BOROUGH'].replace({1:'M', 2:'X', 3:'B', 4:'Q', 5:'S'}, inplace=True)\n",
    "#print(df_combined.head(10))"
   ]
  },
  {
   "cell_type": "code",
   "execution_count": 31,
   "metadata": {},
   "outputs": [
    {
     "data": {
      "text/plain": [
       "False    58787\n",
       "True     24707\n",
       "Name: SALE PRICE, dtype: int64"
      ]
     },
     "execution_count": 31,
     "metadata": {},
     "output_type": "execute_result"
    }
   ],
   "source": [
    "#Number of rows with a sale price of $0\n",
    "(df_combined['SALE PRICE'] == 0).value_counts()"
   ]
  },
  {
   "cell_type": "code",
   "execution_count": 35,
   "metadata": {},
   "outputs": [],
   "source": [
    "#Remove the records with a sale price of 0\n",
    "df_combined = df_combined[df_combined['SALE PRICE'] != 0]"
   ]
  },
  {
   "cell_type": "code",
   "execution_count": 36,
   "metadata": {},
   "outputs": [
    {
     "data": {
      "text/plain": [
       "False    29566\n",
       "True     29221\n",
       "Name: GROSS SQUARE FEET, dtype: int64"
      ]
     },
     "execution_count": 36,
     "metadata": {},
     "output_type": "execute_result"
    }
   ],
   "source": [
    "#Number of rows where Area of the property solde is missing\n",
    "(df_combined['GROSS SQUARE FEET'] == 0).value_counts()"
   ]
  },
  {
   "cell_type": "code",
   "execution_count": 37,
   "metadata": {},
   "outputs": [
    {
     "data": {
      "text/plain": [
       "False    58787\n",
       "Name: BOROUGH, dtype: int64"
      ]
     },
     "execution_count": 37,
     "metadata": {},
     "output_type": "execute_result"
    }
   ],
   "source": [
    "#Check for missing data in other columns\n",
    "#Borough\n",
    "(df_combined['BOROUGH'] == \"\").value_counts()"
   ]
  },
  {
   "cell_type": "code",
   "execution_count": 86,
   "metadata": {},
   "outputs": [
    {
     "data": {
      "text/plain": [
       "False    58787\n",
       "Name: NEIGHBORHOOD, dtype: int64"
      ]
     },
     "execution_count": 86,
     "metadata": {},
     "output_type": "execute_result"
    }
   ],
   "source": [
    "#Neighborhood\n",
    "(df_combined['NEIGHBORHOOD'] == \" \").value_counts()"
   ]
  },
  {
   "cell_type": "code",
   "execution_count": 39,
   "metadata": {},
   "outputs": [
    {
     "data": {
      "text/plain": [
       "False    58787\n",
       "Name: BUILDING CLASS CATEGORY, dtype: int64"
      ]
     },
     "execution_count": 39,
     "metadata": {},
     "output_type": "execute_result"
    }
   ],
   "source": [
    "#Building Class Category\n",
    "(df_combined['BUILDING CLASS CATEGORY'] == \"\").value_counts()"
   ]
  },
  {
   "cell_type": "code",
   "execution_count": 40,
   "metadata": {},
   "outputs": [
    {
     "data": {
      "text/plain": [
       "False    58787\n",
       "Name: BUILDING CLASS AT PRESENT, dtype: int64"
      ]
     },
     "execution_count": 40,
     "metadata": {},
     "output_type": "execute_result"
    }
   ],
   "source": [
    "#Building Class at Present\n",
    "(df_combined['BUILDING CLASS AT PRESENT'] == \"\").value_counts()"
   ]
  },
  {
   "cell_type": "code",
   "execution_count": 95,
   "metadata": {},
   "outputs": [
    {
     "name": "stdout",
     "output_type": "stream",
     "text": [
      "                   NEIGHBORHOOD  ZIP CODE\n",
      "0                 ALPHABET CITY     10009\n",
      "94                ALPHABET CITY     10002\n",
      "147                     CHELSEA     10011\n",
      "158                     CHELSEA     10001\n",
      "245                     CHELSEA     10014\n",
      "597                     CHELSEA     10010\n",
      "808                   CHINATOWN     10013\n",
      "820                   CHINATOWN     10002\n",
      "931                   CHINATOWN     10038\n",
      "949                CIVIC CENTER     10038\n",
      "965                CIVIC CENTER     10007\n",
      "967                CIVIC CENTER     10013\n",
      "1113                    CLINTON     10036\n",
      "1122                    CLINTON     10019\n",
      "1467               EAST VILLAGE     10009\n",
      "1482               EAST VILLAGE     10003\n",
      "1703                    FASHION     10001\n",
      "1705                    FASHION     10018\n",
      "1896                  FINANCIAL     10004\n",
      "1904                  FINANCIAL     10005\n",
      "1908                  FINANCIAL     10038\n",
      "1929                  FINANCIAL     10006\n",
      "2242                  FINANCIAL     10007\n",
      "2274                   FLATIRON     10010\n",
      "2276                   FLATIRON     10011\n",
      "2277                   FLATIRON     10003\n",
      "2372                   FLATIRON     10016\n",
      "2601                   FLATIRON     10001\n",
      "2659                   GRAMERCY     10010\n",
      "2660                   GRAMERCY     10003\n",
      "...                         ...       ...\n",
      "6416                  ROSSVILLE     10312\n",
      "6425                  ROSSVILLE     10309\n",
      "6597       ROSSVILLE-CHARLESTON     10309\n",
      "6649       ROSSVILLE-PORT MOBIL     10309\n",
      "6670  ROSSVILLE-RICHMOND VALLEY     10309\n",
      "6690                SILVER LAKE     10301\n",
      "6706                SILVER LAKE     10310\n",
      "6744                SOUTH BEACH     10305\n",
      "7003                  STAPLETON     10301\n",
      "7004                  STAPLETON     10304\n",
      "7156          STAPLETON-CLIFTON     10304\n",
      "7183          STAPLETON-CLIFTON     10305\n",
      "7190                  SUNNYSIDE     10301\n",
      "7233                  SUNNYSIDE     10314\n",
      "7268                  TODT HILL     10301\n",
      "7277                  TODT HILL     10304\n",
      "7310              TOMPKINSVILLE     10301\n",
      "7318              TOMPKINSVILLE     10304\n",
      "7393                TOTTENVILLE     10307\n",
      "7685                TOTTENVILLE     10309\n",
      "7695                     TRAVIS     10314\n",
      "7793          WEST NEW BRIGHTON     10301\n",
      "7795          WEST NEW BRIGHTON     10310\n",
      "7880          WEST NEW BRIGHTON     10302\n",
      "8123                WESTERLEIGH     10302\n",
      "8130                WESTERLEIGH     10314\n",
      "8317                WILLOWBROOK     10314\n",
      "8422                WILLOWBROOK     10302\n",
      "8530                    WOODROW     10309\n",
      "8584                    WOODROW     10306\n",
      "\n",
      "[614 rows x 2 columns]\n"
     ]
    }
   ],
   "source": [
    "#Zip Code\n",
    "#print(df_combined[df_combined['ZIP CODE'] == 0])\n",
    "#print(df_combined[df_combined['ZIP CODE'] == 0])\n",
    "#Create Dataframe with unique records\n",
    "#df_key = data.drop_duplicates()\n",
    "#df_key = df_key.loc[df_key['name'] != '']\n",
    "#Set the code to be the index of the df\n",
    "#df_key.set_index('code', inplace=True)\n",
    "#Map key to data \n",
    "#data['name'] = data['code'].map(df_key['name'])\n",
    "#group by the name and aggregate the data\n",
    "#data_grped = data.groupby(['code', 'name'])['name'].count().sort_values(ascending=False)\n",
    "#print(data_grped.head(10))\n",
    "\n",
    "df_temp = df_combined[['NEIGHBORHOOD', 'ZIP CODE']]\n",
    "df_temp = df_temp[df_temp['ZIP CODE'] != 0].drop_duplicates()\n",
    "\n",
    "\n",
    "#df_temp.set_index(['NEIGHBORHOOD', 'ZIP CODE'], inplace=True)\n",
    "#df_temp['BOROUGH'].count()\n",
    "\n",
    "#df_group = df_temp.groupby(['NEIGHBORHOOD', 'ZIP CODE'])\n",
    "\n",
    "print(df_temp)\n",
    "\n",
    "\n",
    "#print(df_temp['BOROUGH'].value_counts())\n",
    "\n",
    "#df_combined['ZIP CODE'] = df_combined['NEIGHBORHOOD'].map(df_temp['ZIP CODE'])\n",
    "\n",
    "#print(df_combined)"
   ]
  },
  {
   "cell_type": "code",
   "execution_count": 99,
   "metadata": {},
   "outputs": [
    {
     "name": "stdout",
     "output_type": "stream",
     "text": [
      "     BOROUGH       NEIGHBORHOOD                      BUILDING CLASS CATEGORY  \\\n",
      "90         M      ALPHABET CITY  12 CONDOS - WALKUP APARTMENTS                 \n",
      "92         M      ALPHABET CITY  13 CONDOS - ELEVATOR APARTMENTS               \n",
      "108        M      ALPHABET CITY  13 CONDOS - ELEVATOR APARTMENTS               \n",
      "109        M      ALPHABET CITY  13 CONDOS - ELEVATOR APARTMENTS               \n",
      "123        M      ALPHABET CITY  15 CONDOS - 2-10 UNIT RESIDENTIAL             \n",
      "124        M      ALPHABET CITY  15 CONDOS - 2-10 UNIT RESIDENTIAL             \n",
      "125        M      ALPHABET CITY  15 CONDOS - 2-10 UNIT RESIDENTIAL             \n",
      "406        M            CHELSEA  13 CONDOS - ELEVATOR APARTMENTS               \n",
      "408        M            CHELSEA  13 CONDOS - ELEVATOR APARTMENTS               \n",
      "477        M            CHELSEA  13 CONDOS - ELEVATOR APARTMENTS               \n",
      "496        M            CHELSEA  13 CONDOS - ELEVATOR APARTMENTS               \n",
      "497        M            CHELSEA  13 CONDOS - ELEVATOR APARTMENTS               \n",
      "498        M            CHELSEA  13 CONDOS - ELEVATOR APARTMENTS               \n",
      "499        M            CHELSEA  13 CONDOS - ELEVATOR APARTMENTS               \n",
      "500        M            CHELSEA  13 CONDOS - ELEVATOR APARTMENTS               \n",
      "525        M            CHELSEA  13 CONDOS - ELEVATOR APARTMENTS               \n",
      "526        M            CHELSEA  13 CONDOS - ELEVATOR APARTMENTS               \n",
      "527        M            CHELSEA  13 CONDOS - ELEVATOR APARTMENTS               \n",
      "529        M            CHELSEA  13 CONDOS - ELEVATOR APARTMENTS               \n",
      "536        M            CHELSEA  13 CONDOS - ELEVATOR APARTMENTS               \n",
      "537        M            CHELSEA  13 CONDOS - ELEVATOR APARTMENTS               \n",
      "538        M            CHELSEA  13 CONDOS - ELEVATOR APARTMENTS               \n",
      "539        M            CHELSEA  13 CONDOS - ELEVATOR APARTMENTS               \n",
      "544        M            CHELSEA  13 CONDOS - ELEVATOR APARTMENTS               \n",
      "545        M            CHELSEA  13 CONDOS - ELEVATOR APARTMENTS               \n",
      "547        M            CHELSEA  13 CONDOS - ELEVATOR APARTMENTS               \n",
      "548        M            CHELSEA  13 CONDOS - ELEVATOR APARTMENTS               \n",
      "550        M            CHELSEA  13 CONDOS - ELEVATOR APARTMENTS               \n",
      "552        M            CHELSEA  13 CONDOS - ELEVATOR APARTMENTS               \n",
      "553        M            CHELSEA  13 CONDOS - ELEVATOR APARTMENTS               \n",
      "...      ...                ...                                          ...   \n",
      "7150       S          STAPLETON  31 COMMERCIAL VACANT LAND                     \n",
      "7185       S  STAPLETON-CLIFTON  05 TAX CLASS 1 VACANT LAND                    \n",
      "7186       S  STAPLETON-CLIFTON  05 TAX CLASS 1 VACANT LAND                    \n",
      "7304       S          TODT HILL  05 TAX CLASS 1 VACANT LAND                    \n",
      "7307       S          TODT HILL  05 TAX CLASS 1 VACANT LAND                    \n",
      "7353       S      TOMPKINSVILLE  05 TAX CLASS 1 VACANT LAND                    \n",
      "7354       S      TOMPKINSVILLE  05 TAX CLASS 1 VACANT LAND                    \n",
      "7356       S      TOMPKINSVILLE  05 TAX CLASS 1 VACANT LAND                    \n",
      "7357       S      TOMPKINSVILLE  05 TAX CLASS 1 VACANT LAND                    \n",
      "7360       S      TOMPKINSVILLE  05 TAX CLASS 1 VACANT LAND                    \n",
      "7656       S        TOTTENVILLE  05 TAX CLASS 1 VACANT LAND                    \n",
      "7657       S        TOTTENVILLE  05 TAX CLASS 1 VACANT LAND                    \n",
      "7663       S        TOTTENVILLE  05 TAX CLASS 1 VACANT LAND                    \n",
      "7664       S        TOTTENVILLE  05 TAX CLASS 1 VACANT LAND                    \n",
      "7665       S        TOTTENVILLE  05 TAX CLASS 1 VACANT LAND                    \n",
      "7685       S        TOTTENVILLE  31 COMMERCIAL VACANT LAND                     \n",
      "7694       S        TOTTENVILLE  31 COMMERCIAL VACANT LAND                     \n",
      "7973       S  WEST NEW BRIGHTON  02 TWO FAMILY DWELLINGS                       \n",
      "8082       S  WEST NEW BRIGHTON  05 TAX CLASS 1 VACANT LAND                    \n",
      "8083       S  WEST NEW BRIGHTON  05 TAX CLASS 1 VACANT LAND                    \n",
      "8084       S  WEST NEW BRIGHTON  05 TAX CLASS 1 VACANT LAND                    \n",
      "8085       S  WEST NEW BRIGHTON  05 TAX CLASS 1 VACANT LAND                    \n",
      "8086       S  WEST NEW BRIGHTON  05 TAX CLASS 1 VACANT LAND                    \n",
      "8122       S  WEST NEW BRIGHTON  41 TAX CLASS 4 - OTHER                        \n",
      "8267       S        WESTERLEIGH  02 TWO FAMILY DWELLINGS                       \n",
      "8313       S        WESTERLEIGH  05 TAX CLASS 1 VACANT LAND                    \n",
      "8503       S        WILLOWBROOK  05 TAX CLASS 1 VACANT LAND                    \n",
      "8504       S        WILLOWBROOK  05 TAX CLASS 1 VACANT LAND                    \n",
      "8505       S        WILLOWBROOK  05 TAX CLASS 1 VACANT LAND                    \n",
      "8546       S            WOODROW  01 ONE FAMILY DWELLINGS                       \n",
      "\n",
      "     TAX CLASS AT PRESENT BUILDING CLASS AT PRESENT  ZIP CODE  \\\n",
      "90                      2                        R2     10009   \n",
      "92                      2                        R4     10009   \n",
      "108                     2                        R4     10009   \n",
      "109                     2                        R4     10009   \n",
      "123                    2C                        R1     10009   \n",
      "124                    2C                        R1     10009   \n",
      "125                    2C                        R1     10009   \n",
      "406                     2                        R4     10011   \n",
      "408                     2                        R4     10011   \n",
      "477                     2                        R4     10011   \n",
      "496                     2                        R4     10001   \n",
      "497                     2                        R4     10001   \n",
      "498                     2                        R4     10001   \n",
      "499                     2                        R4     10001   \n",
      "500                     2                        R4     10001   \n",
      "525                     2                        R4     10011   \n",
      "526                     2                        R4     10011   \n",
      "527                     2                        R4     10011   \n",
      "529                     2                        R4     10011   \n",
      "536                     2                        R4     10011   \n",
      "537                     2                        R4     10011   \n",
      "538                     2                        R4     10011   \n",
      "539                     2                        R4     10011   \n",
      "544                     2                        R4     10001   \n",
      "545                     2                        R4     10001   \n",
      "547                     2                        R4     10001   \n",
      "548                     2                        R4     10001   \n",
      "550                     2                        R4     10001   \n",
      "552                     2                        R4     10001   \n",
      "553                     2                        R4     10001   \n",
      "...                   ...                       ...       ...   \n",
      "7150                    4                        V1     10304   \n",
      "7185                   1B                        V0         0   \n",
      "7186                   1B                        V0         0   \n",
      "7304                   1B                        V0     10301   \n",
      "7307                   1B                        V0         0   \n",
      "7353                   1B                        V0         0   \n",
      "7354                   1B                        V0         0   \n",
      "7356                   1B                        V0         0   \n",
      "7357                   1B                        V0         0   \n",
      "7360                   1B                        V0         0   \n",
      "7656                   1B                        V0     10307   \n",
      "7657                   1B                        V0     10307   \n",
      "7663                   1B                        V0     10307   \n",
      "7664                   1B                        V0     10307   \n",
      "7665                   1B                        V0         0   \n",
      "7685                    4                        V1     10309   \n",
      "7694                    4                        V9         0   \n",
      "7973                    1                        B2     10310   \n",
      "8082                   1B                        V0         0   \n",
      "8083                   1B                        V0         0   \n",
      "8084                   1B                        V0         0   \n",
      "8085                   1B                        V0     10310   \n",
      "8086                   1B                        V0         0   \n",
      "8122                    4                        Z9     10302   \n",
      "8267                    1                        B2     10314   \n",
      "8313                   1B                        V0     10314   \n",
      "8503                   1B                        V0         0   \n",
      "8504                   1B                        V0         0   \n",
      "8505                   1B                        V0         0   \n",
      "8546                    1                        A2     10309   \n",
      "\n",
      "      GROSS SQUARE FEET  YEAR BUILT BUILDING CLASS AT TIME OF SALE  \\\n",
      "90                    0           0                             R2   \n",
      "92                    0           0                             R4   \n",
      "108                   0           0                             R4   \n",
      "109                   0           0                             R4   \n",
      "123                   0           0                             R1   \n",
      "124                   0           0                             R1   \n",
      "125                   0           0                             R1   \n",
      "406                   0           0                             R4   \n",
      "408                   0           0                             R4   \n",
      "477                   0           0                             R4   \n",
      "496                   0           0                             R4   \n",
      "497                   0           0                             R4   \n",
      "498                   0           0                             R4   \n",
      "499                   0           0                             R4   \n",
      "500                   0           0                             R4   \n",
      "525                   0           0                             R4   \n",
      "526                   0           0                             R4   \n",
      "527                   0           0                             R4   \n",
      "529                   0           0                             R4   \n",
      "536                   0           0                             R4   \n",
      "537                   0           0                             R4   \n",
      "538                   0           0                             R4   \n",
      "539                   0           0                             R4   \n",
      "544                   0           0                             R4   \n",
      "545                   0           0                             R4   \n",
      "547                   0           0                             R4   \n",
      "548                   0           0                             R4   \n",
      "550                   0           0                             R4   \n",
      "552                   0           0                             R4   \n",
      "553                   0           0                             R4   \n",
      "...                 ...         ...                            ...   \n",
      "7150                  0           0                             V1   \n",
      "7185                  0           0                             V0   \n",
      "7186                  0           0                             V0   \n",
      "7304                  0           0                             V0   \n",
      "7307                  0           0                             V0   \n",
      "7353                  0           0                             V0   \n",
      "7354                  0           0                             V0   \n",
      "7356                  0           0                             V0   \n",
      "7357                  0           0                             V0   \n",
      "7360                  0           0                             V0   \n",
      "7656                  0           0                             V0   \n",
      "7657                  0           0                             V0   \n",
      "7663                  0           0                             V0   \n",
      "7664                  0           0                             V0   \n",
      "7665                  0           0                             V0   \n",
      "7685                  0           0                             V1   \n",
      "7694                  0           0                             V9   \n",
      "7973                  0           0                             B2   \n",
      "8082                  0           0                             V0   \n",
      "8083                  0           0                             V0   \n",
      "8084                  0           0                             V0   \n",
      "8085                  0           0                             V0   \n",
      "8086                  0           0                             V0   \n",
      "8122                  0           0                             Z9   \n",
      "8267                  0           0                             B2   \n",
      "8313                  0           0                             V0   \n",
      "8503                  0           0                             V0   \n",
      "8504                  0           0                             V0   \n",
      "8505                  0           0                             V0   \n",
      "8546                  0           0                             A2   \n",
      "\n",
      "      SALE PRICE  SALE DATE  \n",
      "90       1865000 2017-09-15  \n",
      "92        820000 2018-06-08  \n",
      "108       674100 2017-09-26  \n",
      "109       555863 2018-05-03  \n",
      "123      1895000 2018-05-18  \n",
      "124       494500 2017-08-04  \n",
      "125      1550000 2018-05-15  \n",
      "406      3640000 2017-12-22  \n",
      "408      4950000 2018-01-10  \n",
      "477      2875000 2018-01-11  \n",
      "496      1915000 2018-02-01  \n",
      "497      1100000 2018-05-03  \n",
      "498      1815000 2017-11-10  \n",
      "499      1739000 2018-06-28  \n",
      "500      2400000 2018-04-24  \n",
      "525      3300000 2018-06-15  \n",
      "526      2900000 2018-01-26  \n",
      "527      1230000 2017-08-28  \n",
      "529      1650000 2018-06-08  \n",
      "536       715000 2018-02-13  \n",
      "537      1062000 2018-03-23  \n",
      "538       975000 2018-03-14  \n",
      "539       727500 2017-12-06  \n",
      "544      4300000 2017-11-21  \n",
      "545      1435000 2018-04-17  \n",
      "547      2275000 2017-08-15  \n",
      "548      1650000 2017-12-14  \n",
      "550      2850000 2018-07-09  \n",
      "552      1450000 2017-12-19  \n",
      "553      1657500 2018-05-24  \n",
      "...          ...        ...  \n",
      "7150      310000 2018-02-02  \n",
      "7185        2000 2017-08-02  \n",
      "7186        8000 2017-08-02  \n",
      "7304      551250 2017-12-01  \n",
      "7307      921500 2017-10-16  \n",
      "7353      270000 2017-12-08  \n",
      "7354         100 2017-12-28  \n",
      "7356       10000 2018-02-08  \n",
      "7357       50000 2017-11-29  \n",
      "7360       49500 2018-05-25  \n",
      "7656      865410 2018-03-13  \n",
      "7657      375000 2017-12-08  \n",
      "7663      349900 2018-06-06  \n",
      "7664      106000 2017-08-11  \n",
      "7665      314000 2018-05-02  \n",
      "7685      100000 2018-02-06  \n",
      "7694       15000 2018-06-01  \n",
      "7973      800000 2017-10-04  \n",
      "8082      205000 2017-08-03  \n",
      "8083       19346 2017-10-05  \n",
      "8084      175000 2018-07-16  \n",
      "8085      190000 2018-03-19  \n",
      "8086      850238 2018-05-23  \n",
      "8122      381843 2018-02-12  \n",
      "8267      898888 2018-06-22  \n",
      "8313      992793 2018-04-23  \n",
      "8503        1000 2017-12-31  \n",
      "8504      800000 2017-12-27  \n",
      "8505       17299 2017-12-27  \n",
      "8546      749000 2017-09-01  \n",
      "\n",
      "[3698 rows x 11 columns]\n"
     ]
    }
   ],
   "source": [
    "#Year Built\n",
    "#(df_combined['YEAR BUILT'] == 0).value_counts()\n",
    "print(df_combined[df_combined['YEAR BUILT'] == 0])"
   ]
  },
  {
   "cell_type": "code",
   "execution_count": 97,
   "metadata": {},
   "outputs": [
    {
     "data": {
      "text/plain": [
       "False    58787\n",
       "Name: BUILDING CLASS AT TIME OF SALE, dtype: int64"
      ]
     },
     "execution_count": 97,
     "metadata": {},
     "output_type": "execute_result"
    }
   ],
   "source": [
    "#Building Class at Time of Sale\n",
    "(df_combined['BUILDING CLASS AT TIME OF SALE'] == 0).value_counts()"
   ]
  },
  {
   "cell_type": "code",
   "execution_count": 98,
   "metadata": {},
   "outputs": [
    {
     "data": {
      "text/plain": [
       "False    58787\n",
       "Name: SALE DATE, dtype: int64"
      ]
     },
     "execution_count": 98,
     "metadata": {},
     "output_type": "execute_result"
    }
   ],
   "source": [
    "#Sale Date\n",
    "(df_combined['SALE DATE'] == 0).value_counts()"
   ]
  },
  {
   "cell_type": "code",
   "execution_count": null,
   "metadata": {},
   "outputs": [],
   "source": []
  }
 ],
 "metadata": {
  "kernelspec": {
   "display_name": "Python 3",
   "language": "python",
   "name": "python3"
  },
  "language_info": {
   "codemirror_mode": {
    "name": "ipython",
    "version": 3
   },
   "file_extension": ".py",
   "mimetype": "text/x-python",
   "name": "python",
   "nbconvert_exporter": "python",
   "pygments_lexer": "ipython3",
   "version": "3.6.5"
  }
 },
 "nbformat": 4,
 "nbformat_minor": 2
}
