{
 "cells": [
  {
   "cell_type": "code",
   "execution_count": 13,
   "metadata": {},
   "outputs": [],
   "source": [
    "import pandas as pd"
   ]
  },
  {
   "cell_type": "code",
   "execution_count": 16,
   "metadata": {},
   "outputs": [],
   "source": [
    "#Read data for every Borough\n",
    "df_manhattan = pd.read_excel('RollingSalesData/rollingsales_manhattan.xls', header=4, usecols=[0, 1, 2, 3, 7, 10, 15, 16, 18, 19, 20])\n",
    "df_bronx = pd.read_excel('RollingSalesData/rollingsales_bronx.xls', header=4, usecols=[0, 1, 2, 3, 7, 10, 15, 16, 18, 19, 20])\n",
    "df_brooklyn = pd.read_excel('RollingSalesData/rollingsales_brooklyn.xls', header=4, usecols=[0, 1, 2, 3, 7, 10, 15, 16, 18, 19, 20])\n",
    "df_queens = pd.read_excel('RollingSalesData/rollingsales_queens.xls', header=4, usecols=[0, 1, 2, 3, 7, 10, 15, 16, 18, 19, 20])\n",
    "df_statenisland = pd.read_excel('RollingSalesData/rollingsales_statenisland.xls', header=4, usecols=[0, 1, 2, 3, 7, 10, 15, 16, 18, 19, 20])\n",
    "\n"
   ]
  },
  {
   "cell_type": "code",
   "execution_count": 30,
   "metadata": {},
   "outputs": [],
   "source": [
    "#Concatenate the data for all boroughs\n",
    "df_combined = pd.concat([df_manhattan, df_bronx, df_brooklyn,  df_queens, df_statenisland])\n",
    "\n",
    "#Replace the 'BOROUGH' with appropriate depictions for each borough: M -1 , X - 2, B - 3, Q - 4, S - 5\n",
    "df_combined['BOROUGH'].replace({1:'M', 2:'X', 3:'B', 4:'Q', 5:'S'}, inplace=True)\n",
    "#print(df_combined.head(10))"
   ]
  },
  {
   "cell_type": "code",
   "execution_count": 31,
   "metadata": {},
   "outputs": [
    {
     "data": {
      "text/plain": [
       "False    58787\n",
       "True     24707\n",
       "Name: SALE PRICE, dtype: int64"
      ]
     },
     "execution_count": 31,
     "metadata": {},
     "output_type": "execute_result"
    }
   ],
   "source": [
    "#Number of rows with a sale price of $0\n",
    "(df_combined['SALE PRICE'] == 0).value_counts()"
   ]
  },
  {
   "cell_type": "code",
   "execution_count": 35,
   "metadata": {},
   "outputs": [],
   "source": [
    "#Remove the records with a sale price of 0\n",
    "df_combined = df_combined[df_combined['SALE PRICE'] != 0]"
   ]
  },
  {
   "cell_type": "code",
   "execution_count": 36,
   "metadata": {},
   "outputs": [
    {
     "data": {
      "text/plain": [
       "False    29566\n",
       "True     29221\n",
       "Name: GROSS SQUARE FEET, dtype: int64"
      ]
     },
     "execution_count": 36,
     "metadata": {},
     "output_type": "execute_result"
    }
   ],
   "source": [
    "#Number of rows where Area of the property solde is missing\n",
    "(df_combined['GROSS SQUARE FEET'] == 0).value_counts()"
   ]
  },
  {
   "cell_type": "code",
   "execution_count": 37,
   "metadata": {},
   "outputs": [
    {
     "data": {
      "text/plain": [
       "False    58787\n",
       "Name: BOROUGH, dtype: int64"
      ]
     },
     "execution_count": 37,
     "metadata": {},
     "output_type": "execute_result"
    }
   ],
   "source": [
    "#Check for missing data in other columns\n",
    "#Borough\n",
    "(df_combined['BOROUGH'] == \"\").value_counts()"
   ]
  },
  {
   "cell_type": "code",
   "execution_count": 86,
   "metadata": {},
   "outputs": [
    {
     "data": {
      "text/plain": [
       "False    58787\n",
       "Name: NEIGHBORHOOD, dtype: int64"
      ]
     },
     "execution_count": 86,
     "metadata": {},
     "output_type": "execute_result"
    }
   ],
   "source": [
    "#Neighborhood\n",
    "(df_combined['NEIGHBORHOOD'] == \" \").value_counts()"
   ]
  },
  {
   "cell_type": "code",
   "execution_count": 39,
   "metadata": {},
   "outputs": [
    {
     "data": {
      "text/plain": [
       "False    58787\n",
       "Name: BUILDING CLASS CATEGORY, dtype: int64"
      ]
     },
     "execution_count": 39,
     "metadata": {},
     "output_type": "execute_result"
    }
   ],
   "source": [
    "#Building Class Category\n",
    "(df_combined['BUILDING CLASS CATEGORY'] == \"\").value_counts()"
   ]
  },
  {
   "cell_type": "code",
   "execution_count": 40,
   "metadata": {},
   "outputs": [
    {
     "data": {
      "text/plain": [
       "False    58787\n",
       "Name: BUILDING CLASS AT PRESENT, dtype: int64"
      ]
     },
     "execution_count": 40,
     "metadata": {},
     "output_type": "execute_result"
    }
   ],
   "source": [
    "#Building Class at Present\n",
    "(df_combined['BUILDING CLASS AT PRESENT'] == \"\").value_counts()"
   ]
  },
  {
   "cell_type": "code",
   "execution_count": 95,
   "metadata": {},
   "outputs": [
    {
     "name": "stdout",
     "output_type": "stream",
     "text": [
      "                   NEIGHBORHOOD  ZIP CODE\n",
      "0                 ALPHABET CITY     10009\n",
      "94                ALPHABET CITY     10002\n",
      "147                     CHELSEA     10011\n",
      "158                     CHELSEA     10001\n",
      "245                     CHELSEA     10014\n",
      "597                     CHELSEA     10010\n",
      "808                   CHINATOWN     10013\n",
      "820                   CHINATOWN     10002\n",
      "931                   CHINATOWN     10038\n",
      "949                CIVIC CENTER     10038\n",
      "965                CIVIC CENTER     10007\n",
      "967                CIVIC CENTER     10013\n",
      "1113                    CLINTON     10036\n",
      "1122                    CLINTON     10019\n",
      "1467               EAST VILLAGE     10009\n",
      "1482               EAST VILLAGE     10003\n",
      "1703                    FASHION     10001\n",
      "1705                    FASHION     10018\n",
      "1896                  FINANCIAL     10004\n",
      "1904                  FINANCIAL     10005\n",
      "1908                  FINANCIAL     10038\n",
      "1929                  FINANCIAL     10006\n",
      "2242                  FINANCIAL     10007\n",
      "2274                   FLATIRON     10010\n",
      "2276                   FLATIRON     10011\n",
      "2277                   FLATIRON     10003\n",
      "2372                   FLATIRON     10016\n",
      "2601                   FLATIRON     10001\n",
      "2659                   GRAMERCY     10010\n",
      "2660                   GRAMERCY     10003\n",
      "...                         ...       ...\n",
      "6416                  ROSSVILLE     10312\n",
      "6425                  ROSSVILLE     10309\n",
      "6597       ROSSVILLE-CHARLESTON     10309\n",
      "6649       ROSSVILLE-PORT MOBIL     10309\n",
      "6670  ROSSVILLE-RICHMOND VALLEY     10309\n",
      "6690                SILVER LAKE     10301\n",
      "6706                SILVER LAKE     10310\n",
      "6744                SOUTH BEACH     10305\n",
      "7003                  STAPLETON     10301\n",
      "7004                  STAPLETON     10304\n",
      "7156          STAPLETON-CLIFTON     10304\n",
      "7183          STAPLETON-CLIFTON     10305\n",
      "7190                  SUNNYSIDE     10301\n",
      "7233                  SUNNYSIDE     10314\n",
      "7268                  TODT HILL     10301\n",
      "7277                  TODT HILL     10304\n",
      "7310              TOMPKINSVILLE     10301\n",
      "7318              TOMPKINSVILLE     10304\n",
      "7393                TOTTENVILLE     10307\n",
      "7685                TOTTENVILLE     10309\n",
      "7695                     TRAVIS     10314\n",
      "7793          WEST NEW BRIGHTON     10301\n",
      "7795          WEST NEW BRIGHTON     10310\n",
      "7880          WEST NEW BRIGHTON     10302\n",
      "8123                WESTERLEIGH     10302\n",
      "8130                WESTERLEIGH     10314\n",
      "8317                WILLOWBROOK     10314\n",
      "8422                WILLOWBROOK     10302\n",
      "8530                    WOODROW     10309\n",
      "8584                    WOODROW     10306\n",
      "\n",
      "[614 rows x 2 columns]\n"
     ]
    }
   ],
   "source": [
    "#Zip Code\n",
    "#print(df_combined[df_combined['ZIP CODE'] == 0])\n",
    "#print(df_combined[df_combined['ZIP CODE'] == 0])\n",
    "#Create Dataframe with unique records\n",
    "#df_key = data.drop_duplicates()\n",
    "#df_key = df_key.loc[df_key['name'] != '']\n",
    "#Set the code to be the index of the df\n",
    "#df_key.set_index('code', inplace=True)\n",
    "#Map key to data \n",
    "#data['name'] = data['code'].map(df_key['name'])\n",
    "#group by the name and aggregate the data\n",
    "#data_grped = data.groupby(['code', 'name'])['name'].count().sort_values(ascending=False)\n",
    "#print(data_grped.head(10))\n",
    "\n",
    "df_temp = df_combined[['NEIGHBORHOOD', 'ZIP CODE']]\n",
    "df_temp = df_temp[df_temp['ZIP CODE'] != 0].drop_duplicates()\n",
    "\n",
    "\n",
    "#df_temp.set_index(['NEIGHBORHOOD', 'ZIP CODE'], inplace=True)\n",
    "#df_temp['BOROUGH'].count()\n",
    "\n",
    "#df_group = df_temp.groupby(['NEIGHBORHOOD', 'ZIP CODE'])\n",
    "\n",
    "print(df_temp)\n",
    "\n",
    "\n",
    "#print(df_temp['BOROUGH'].value_counts())\n",
    "\n",
    "#df_combined['ZIP CODE'] = df_combined['NEIGHBORHOOD'].map(df_temp['ZIP CODE'])\n",
    "\n",
    "#print(df_combined)"
   ]
  },
  {
   "cell_type": "code",
   "execution_count": null,
   "metadata": {},
   "outputs": [],
   "source": []
  }
 ],
 "metadata": {
  "kernelspec": {
   "display_name": "Python 3",
   "language": "python",
   "name": "python3"
  },
  "language_info": {
   "codemirror_mode": {
    "name": "ipython",
    "version": 3
   },
   "file_extension": ".py",
   "mimetype": "text/x-python",
   "name": "python",
   "nbconvert_exporter": "python",
   "pygments_lexer": "ipython3",
   "version": "3.6.5"
  }
 },
 "nbformat": 4,
 "nbformat_minor": 2
}
