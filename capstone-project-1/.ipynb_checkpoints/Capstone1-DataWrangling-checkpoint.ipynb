{
 "cells": [
  {
   "cell_type": "code",
   "execution_count": 185,
   "metadata": {},
   "outputs": [],
   "source": [
    "import pandas as pd\n",
    "import matplotlib.pyplot as plt"
   ]
  },
  {
   "cell_type": "raw",
   "metadata": {},
   "source": [
    "For the Data Wrangling piece of this project the plan is to first ingest the data from the excel spreadsheets and then combine it all into a single Dataframe. After that replace the numbers for the Borough using meaningful letter for each of the Boroughs."
   ]
  },
  {
   "cell_type": "code",
   "execution_count": 186,
   "metadata": {},
   "outputs": [],
   "source": [
    "#Read data for every Borough\n",
    "df_manhattan = pd.read_excel('RollingSalesData/rollingsales_manhattan.xls', header=4, usecols=[0, 1, 2, 3, 7, 10, 15, 16, 18, 19, 20])\n",
    "df_bronx = pd.read_excel('RollingSalesData/rollingsales_bronx.xls', header=4, usecols=[0, 1, 2, 3, 7, 10, 15, 16, 18, 19, 20])\n",
    "df_brooklyn = pd.read_excel('RollingSalesData/rollingsales_brooklyn.xls', header=4, usecols=[0, 1, 2, 3, 7, 10, 15, 16, 18, 19, 20])\n",
    "df_queens = pd.read_excel('RollingSalesData/rollingsales_queens.xls', header=4, usecols=[0, 1, 2, 3, 7, 10, 15, 16, 18, 19, 20])\n",
    "df_statenisland = pd.read_excel('RollingSalesData/rollingsales_statenisland.xls', header=4, usecols=[0, 1, 2, 3, 7, 10, 15, 16, 18, 19, 20])"
   ]
  },
  {
   "cell_type": "code",
   "execution_count": 187,
   "metadata": {},
   "outputs": [],
   "source": [
    "#Concatenate the data for all boroughs\n",
    "df_combined = pd.concat([df_manhattan, df_bronx, df_brooklyn,  df_queens, df_statenisland])\n",
    "\n",
    "#Replace the 'BOROUGH' with appropriate depictions for each borough: M -1 , X - 2, B - 3, Q - 4, S - 5\n",
    "df_combined['BOROUGH'].replace({1:'M', 2:'X', 3:'B', 4:'Q', 5:'S'}, inplace=True)"
   ]
  },
  {
   "cell_type": "code",
   "execution_count": 188,
   "metadata": {},
   "outputs": [
    {
     "data": {
      "text/plain": [
       "False    58787\n",
       "True     24707\n",
       "Name: SALE PRICE, dtype: int64"
      ]
     },
     "execution_count": 188,
     "metadata": {},
     "output_type": "execute_result"
    }
   ],
   "source": [
    "#Number of rows with a sale price of $0\n",
    "(df_combined['SALE PRICE'] == 0).value_counts()"
   ]
  },
  {
   "cell_type": "raw",
   "metadata": {},
   "source": [
    "As we can see that the Sale Price is $0 for 24,707 records. Since this metric is a vital piece in the project I am going to remove the records that have a sale proce of $0. "
   ]
  },
  {
   "cell_type": "code",
   "execution_count": 189,
   "metadata": {},
   "outputs": [],
   "source": [
    "#Remove the records with a sale price of 0\n",
    "df_combined = df_combined[df_combined['SALE PRICE'] != 0]"
   ]
  },
  {
   "cell_type": "code",
   "execution_count": 190,
   "metadata": {},
   "outputs": [
    {
     "data": {
      "text/plain": [
       "False    29566\n",
       "True     29221\n",
       "Name: GROSS SQUARE FEET, dtype: int64"
      ]
     },
     "execution_count": 190,
     "metadata": {},
     "output_type": "execute_result"
    }
   ],
   "source": [
    "#Number of rows where Area of the property solde is missing\n",
    "(df_combined['GROSS SQUARE FEET'] == 0).value_counts()"
   ]
  },
  {
   "cell_type": "raw",
   "metadata": {},
   "source": [
    "As we can aboce the Gross Square Feet is 0sqft for 29,221 records we will disregard this column during our analysis.\n",
    "\n",
    "Now we will check for Missing Data in other columns."
   ]
  },
  {
   "cell_type": "code",
   "execution_count": 191,
   "metadata": {},
   "outputs": [
    {
     "data": {
      "text/plain": [
       "False    58787\n",
       "Name: BOROUGH, dtype: int64"
      ]
     },
     "execution_count": 191,
     "metadata": {},
     "output_type": "execute_result"
    }
   ],
   "source": [
    "#Check for missing data in other columns\n",
    "#Borough\n",
    "(df_combined['BOROUGH'] == \"\").value_counts()"
   ]
  },
  {
   "cell_type": "code",
   "execution_count": 192,
   "metadata": {},
   "outputs": [
    {
     "data": {
      "text/plain": [
       "False    58787\n",
       "Name: NEIGHBORHOOD, dtype: int64"
      ]
     },
     "execution_count": 192,
     "metadata": {},
     "output_type": "execute_result"
    }
   ],
   "source": [
    "#Neighborhood\n",
    "(df_combined['NEIGHBORHOOD'] == \" \").value_counts()"
   ]
  },
  {
   "cell_type": "code",
   "execution_count": 193,
   "metadata": {},
   "outputs": [
    {
     "data": {
      "text/plain": [
       "False    58787\n",
       "Name: BUILDING CLASS CATEGORY, dtype: int64"
      ]
     },
     "execution_count": 193,
     "metadata": {},
     "output_type": "execute_result"
    }
   ],
   "source": [
    "#Building Class Category\n",
    "(df_combined['BUILDING CLASS CATEGORY'] == \"\").value_counts()"
   ]
  },
  {
   "cell_type": "code",
   "execution_count": 194,
   "metadata": {},
   "outputs": [
    {
     "data": {
      "text/plain": [
       "False    58787\n",
       "Name: BUILDING CLASS AT PRESENT, dtype: int64"
      ]
     },
     "execution_count": 194,
     "metadata": {},
     "output_type": "execute_result"
    }
   ],
   "source": [
    "#Building Class at Present\n",
    "(df_combined['BUILDING CLASS AT PRESENT'] == \"\").value_counts()"
   ]
  },
  {
   "cell_type": "raw",
   "metadata": {},
   "source": [
    "From the above 4 pieces we can see that thhe Borough, Neighborhood, Building Class Category and Building Class at Present columns have no missing data."
   ]
  },
  {
   "cell_type": "code",
   "execution_count": 195,
   "metadata": {},
   "outputs": [
    {
     "data": {
      "text/plain": [
       "False    58488\n",
       "True       299\n",
       "Name: ZIP CODE, dtype: int64"
      ]
     },
     "execution_count": 195,
     "metadata": {},
     "output_type": "execute_result"
    }
   ],
   "source": [
    "#Zip Code\n",
    "(df_combined['ZIP CODE'] == 0).value_counts()"
   ]
  },
  {
   "cell_type": "raw",
   "metadata": {},
   "source": [
    "From the above count we can see that 299 rows do not have a Zip Code. So we will manipulate the zip code of the \n",
    "missing records using the Neighborhood. In this exercise we see that there are multiple zip codes for the same\n",
    "neighborhood. So we will get Map a neighborhood to a zip code usng the maximum occurence of a zip code for a given\n",
    "neighborhood."
   ]
  },
  {
   "cell_type": "code",
   "execution_count": 196,
   "metadata": {},
   "outputs": [
    {
     "data": {
      "text/plain": [
       "False    58787\n",
       "Name: ZIP CODE, dtype: int64"
      ]
     },
     "execution_count": 196,
     "metadata": {},
     "output_type": "execute_result"
    }
   ],
   "source": [
    "df_group = df_combined.groupby(['NEIGHBORHOOD', 'ZIP CODE']).count()['SALE PRICE'].reset_index()\n",
    "\n",
    "idx = df_group.groupby(['NEIGHBORHOOD'])['SALE PRICE'].transform(max) == df_group['SALE PRICE']\n",
    "df_key = df_group[idx][['NEIGHBORHOOD', 'ZIP CODE']]\n",
    "df_key.set_index('NEIGHBORHOOD', inplace=True)\n",
    "#Create a dictionary\n",
    "dictmap = df_key.to_dict()['ZIP CODE']\n",
    "#Map Neighborhood to Zip Code \n",
    "df_combined['ZIP CODE'] = df_combined['NEIGHBORHOOD'].map(dictmap)\n",
    "\n",
    "(df_combined['ZIP CODE'] == 0).value_counts()"
   ]
  },
  {
   "cell_type": "raw",
   "metadata": {},
   "source": [
    "As we can see that all the missing Zip Code fields have been filled "
   ]
  },
  {
   "cell_type": "code",
   "execution_count": 197,
   "metadata": {},
   "outputs": [
    {
     "data": {
      "text/plain": [
       "False    55089\n",
       "True      3698\n",
       "Name: YEAR BUILT, dtype: int64"
      ]
     },
     "execution_count": 197,
     "metadata": {},
     "output_type": "execute_result"
    }
   ],
   "source": [
    "#Year Built\n",
    "(df_combined['YEAR BUILT'] == 0).value_counts()"
   ]
  },
  {
   "cell_type": "raw",
   "metadata": {},
   "source": [
    "Since Year Built is vital in our analysis we will be removing the fields without a Year Built"
   ]
  },
  {
   "cell_type": "code",
   "execution_count": 198,
   "metadata": {},
   "outputs": [],
   "source": [
    "df_combined = df_combined[df_combined['YEAR BUILT'] != 0]"
   ]
  },
  {
   "cell_type": "code",
   "execution_count": 199,
   "metadata": {},
   "outputs": [
    {
     "data": {
      "text/plain": [
       "False    55089\n",
       "Name: BUILDING CLASS AT TIME OF SALE, dtype: int64"
      ]
     },
     "execution_count": 199,
     "metadata": {},
     "output_type": "execute_result"
    }
   ],
   "source": [
    "#Building Class at Time of Sale\n",
    "(df_combined['BUILDING CLASS AT TIME OF SALE'] == 0).value_counts()"
   ]
  },
  {
   "cell_type": "code",
   "execution_count": 200,
   "metadata": {},
   "outputs": [
    {
     "data": {
      "text/plain": [
       "False    55089\n",
       "Name: SALE DATE, dtype: int64"
      ]
     },
     "execution_count": 200,
     "metadata": {},
     "output_type": "execute_result"
    }
   ],
   "source": [
    "#Sale Date\n",
    "(df_combined['SALE DATE'] == 0).value_counts()"
   ]
  },
  {
   "cell_type": "raw",
   "metadata": {},
   "source": [
    "Finally, we see that that there is no missing data for the Sale Date and Building Class at the Time of Sale columns."
   ]
  },
  {
   "cell_type": "raw",
   "metadata": {},
   "source": [
    "Data Story Telling"
   ]
  },
  {
   "cell_type": "code",
   "execution_count": 201,
   "metadata": {},
   "outputs": [
    {
     "data": {
      "text/plain": [
       "<matplotlib.axes._subplots.AxesSubplot at 0x12de8deb8>"
      ]
     },
     "execution_count": 201,
     "metadata": {},
     "output_type": "execute_result"
    },
    {
     "data": {
      "image/png": "[encoded data removed]",
      "text/plain": [
       "<Figure size 1440x504 with 1 Axes>"
      ]
     },
     "metadata": {},
     "output_type": "display_data"
    }
   ],
   "source": [
    "#bar graph of number of apartments sold by Zip Code\n",
    "numbins = df_combined['ZIP CODE'].drop_duplicates().count()\n",
    "(df_combined.groupby(['ZIP CODE']).count()['SALE PRICE']).plot.bar()"
   ]
  },
  {
   "cell_type": "code",
   "execution_count": 202,
   "metadata": {},
   "outputs": [
    {
     "data": {
      "text/plain": [
       "<matplotlib.axes._subplots.AxesSubplot at 0x1311feba8>"
      ]
     },
     "execution_count": 202,
     "metadata": {},
     "output_type": "execute_result"
    },
    {
     "data": {
      "image/png": "[encoded data removed]",
      "text/plain": [
       "<Figure size 1440x504 with 1 Axes>"
      ]
     },
     "metadata": {},
     "output_type": "display_data"
    }
   ],
   "source": [
    "#Bar Graph of number of apartments sold in each borough\n",
    "borough_data = df_combined.groupby(['BOROUGH']).count()['SALE PRICE']\n",
    "borough_data.plot.bar()"
   ]
  },
  {
   "cell_type": "code",
   "execution_count": 203,
   "metadata": {},
   "outputs": [
    {
     "data": {
      "text/plain": [
       "<BarContainer object of 159 artists>"
      ]
     },
     "execution_count": 203,
     "metadata": {},
     "output_type": "execute_result"
    },
    {
     "data": {
      "image/png": "[encoded data removed]",
      "text/plain": [
       "<Figure size 1440x504 with 1 Axes>"
      ]
     },
     "metadata": {},
     "output_type": "display_data"
    }
   ],
   "source": [
    "#Bar Graph of number of apartents by Year Built\n",
    "year_data = df_combined.groupby(['YEAR BUILT']).count()['SALE PRICE']\n",
    "plt.bar(year_data.index, year_data)"
   ]
  },
  {
   "cell_type": "code",
   "execution_count": 260,
   "metadata": {},
   "outputs": [
    {
     "data": {
      "text/plain": [
       "<matplotlib.axes._subplots.AxesSubplot at 0x13a46bb70>"
      ]
     },
     "execution_count": 260,
     "metadata": {},
     "output_type": "execute_result"
    },
    {
     "data": {
      "image/png": "[encoded data removed]",
      "text/plain": [
       "<Figure size 1440x504 with 1 Axes>"
      ]
     },
     "metadata": {},
     "output_type": "display_data"
    }
   ],
   "source": [
    "#Line plot of Sales Price and the Date \n",
    "saleprice_data = df_combined[['SALE PRICE', 'SALE DATE']]\n",
    "saleprice_data.plot.line(x='SALE DATE', y='SALE PRICE', ylim=(0, 1.01e9))"
   ]
  },
  {
   "cell_type": "code",
   "execution_count": 261,
   "metadata": {},
   "outputs": [],
   "source": [
    "saleprice_data.set_index('SALE DATE', inplace=True)\n",
    "\n",
    "#saleprice_data['SALE DATE'] = pd.to_datetime(saleprice_data['SALE DATE'], format='%y-%b-%d')\n",
    "\n",
    "saleprice_grouped = saleprice_data.groupby(pd.Grouper(freq='M'))\n"
   ]
  },
  {
   "cell_type": "code",
   "execution_count": 263,
   "metadata": {},
   "outputs": [
    {
     "name": "stdout",
     "output_type": "stream",
     "text": [
      "<pandas.core.groupby.groupby.DataFrameGroupBy object at 0x138e87b70>\n"
     ]
    }
   ],
   "source": [
    "print(saleprice_grouped)"
   ]
  },
  {
   "cell_type": "code",
   "execution_count": null,
   "metadata": {},
   "outputs": [],
   "source": []
  }
 ],
 "metadata": {
  "kernelspec": {
   "display_name": "Python 3",
   "language": "python",
   "name": "python3"
  },
  "language_info": {
   "codemirror_mode": {
    "name": "ipython",
    "version": 3
   },
   "file_extension": ".py",
   "mimetype": "text/x-python",
   "name": "python",
   "nbconvert_exporter": "python",
   "pygments_lexer": "ipython3",
   "version": "3.6.5"
  }
 },
 "nbformat": 4,
 "nbformat_minor": 2
}
